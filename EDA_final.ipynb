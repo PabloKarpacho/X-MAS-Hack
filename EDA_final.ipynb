{
 "cells": [
  {
   "cell_type": "code",
   "execution_count": 1,
   "id": "e1f713c4",
   "metadata": {},
   "outputs": [
    {
     "name": "stdout",
     "output_type": "stream",
     "text": [
      "Requirement already satisfied: striprtf in c:\\users\\vladi\\anaconda3\\envs\\xmas-hack\\lib\\site-packages (0.0.22)\n",
      "Requirement already satisfied: pymystem3 in c:\\users\\vladi\\anaconda3\\envs\\xmas-hack\\lib\\site-packages (0.2.0)\n",
      "Requirement already satisfied: keybert in c:\\users\\vladi\\anaconda3\\envs\\xmas-hack\\lib\\site-packages (0.7.0)\n",
      "Requirement already satisfied: requests in c:\\users\\vladi\\anaconda3\\envs\\xmas-hack\\lib\\site-packages (from pymystem3) (2.28.1)\n",
      "Requirement already satisfied: rich>=10.4.0 in c:\\users\\vladi\\anaconda3\\envs\\xmas-hack\\lib\\site-packages (from keybert) (12.6.0)\n",
      "Requirement already satisfied: scikit-learn>=0.22.2 in c:\\users\\vladi\\anaconda3\\envs\\xmas-hack\\lib\\site-packages (from keybert) (1.2.0)\n",
      "Requirement already satisfied: sentence-transformers>=0.3.8 in c:\\users\\vladi\\anaconda3\\envs\\xmas-hack\\lib\\site-packages (from keybert) (2.2.2)\n",
      "Requirement already satisfied: numpy>=1.18.5 in c:\\users\\vladi\\anaconda3\\envs\\xmas-hack\\lib\\site-packages (from keybert) (1.23.5)\n",
      "Requirement already satisfied: typing-extensions<5.0,>=4.0.0 in c:\\users\\vladi\\anaconda3\\envs\\xmas-hack\\lib\\site-packages (from rich>=10.4.0->keybert) (4.4.0)\n",
      "Requirement already satisfied: pygments<3.0.0,>=2.6.0 in c:\\users\\vladi\\anaconda3\\envs\\xmas-hack\\lib\\site-packages (from rich>=10.4.0->keybert) (2.13.0)\n",
      "Requirement already satisfied: commonmark<0.10.0,>=0.9.0 in c:\\users\\vladi\\anaconda3\\envs\\xmas-hack\\lib\\site-packages (from rich>=10.4.0->keybert) (0.9.1)\n",
      "Requirement already satisfied: joblib>=1.1.1 in c:\\users\\vladi\\anaconda3\\envs\\xmas-hack\\lib\\site-packages (from scikit-learn>=0.22.2->keybert) (1.2.0)\n",
      "Requirement already satisfied: scipy>=1.3.2 in c:\\users\\vladi\\anaconda3\\envs\\xmas-hack\\lib\\site-packages (from scikit-learn>=0.22.2->keybert) (1.9.3)\n",
      "Requirement already satisfied: threadpoolctl>=2.0.0 in c:\\users\\vladi\\anaconda3\\envs\\xmas-hack\\lib\\site-packages (from scikit-learn>=0.22.2->keybert) (3.1.0)\n",
      "Requirement already satisfied: huggingface-hub>=0.4.0 in c:\\users\\vladi\\anaconda3\\envs\\xmas-hack\\lib\\site-packages (from sentence-transformers>=0.3.8->keybert) (0.11.1)\n",
      "Requirement already satisfied: transformers<5.0.0,>=4.6.0 in c:\\users\\vladi\\anaconda3\\envs\\xmas-hack\\lib\\site-packages (from sentence-transformers>=0.3.8->keybert) (4.25.1)\n",
      "Requirement already satisfied: sentencepiece in c:\\users\\vladi\\anaconda3\\envs\\xmas-hack\\lib\\site-packages (from sentence-transformers>=0.3.8->keybert) (0.1.97)\n",
      "Requirement already satisfied: torchvision in c:\\users\\vladi\\anaconda3\\envs\\xmas-hack\\lib\\site-packages (from sentence-transformers>=0.3.8->keybert) (0.14.1)\n",
      "Requirement already satisfied: tqdm in c:\\users\\vladi\\anaconda3\\envs\\xmas-hack\\lib\\site-packages (from sentence-transformers>=0.3.8->keybert) (4.64.1)\n",
      "Requirement already satisfied: nltk in c:\\users\\vladi\\anaconda3\\envs\\xmas-hack\\lib\\site-packages (from sentence-transformers>=0.3.8->keybert) (3.8)\n",
      "Requirement already satisfied: torch>=1.6.0 in c:\\users\\vladi\\anaconda3\\envs\\xmas-hack\\lib\\site-packages (from sentence-transformers>=0.3.8->keybert) (1.13.1)\n",
      "Requirement already satisfied: certifi>=2017.4.17 in c:\\users\\vladi\\anaconda3\\envs\\xmas-hack\\lib\\site-packages (from requests->pymystem3) (2022.12.7)\n",
      "Requirement already satisfied: idna<4,>=2.5 in c:\\users\\vladi\\anaconda3\\envs\\xmas-hack\\lib\\site-packages (from requests->pymystem3) (3.4)\n",
      "Requirement already satisfied: urllib3<1.27,>=1.21.1 in c:\\users\\vladi\\anaconda3\\envs\\xmas-hack\\lib\\site-packages (from requests->pymystem3) (1.26.13)\n",
      "Requirement already satisfied: charset-normalizer<3,>=2 in c:\\users\\vladi\\anaconda3\\envs\\xmas-hack\\lib\\site-packages (from requests->pymystem3) (2.1.1)\n",
      "Requirement already satisfied: packaging>=20.9 in c:\\users\\vladi\\anaconda3\\envs\\xmas-hack\\lib\\site-packages (from huggingface-hub>=0.4.0->sentence-transformers>=0.3.8->keybert) (22.0)\n",
      "Requirement already satisfied: pyyaml>=5.1 in c:\\users\\vladi\\appdata\\roaming\\python\\python38\\site-packages (from huggingface-hub>=0.4.0->sentence-transformers>=0.3.8->keybert) (6.0)\n",
      "Requirement already satisfied: filelock in c:\\users\\vladi\\anaconda3\\envs\\xmas-hack\\lib\\site-packages (from huggingface-hub>=0.4.0->sentence-transformers>=0.3.8->keybert) (3.8.2)\n",
      "Requirement already satisfied: tokenizers!=0.11.3,<0.14,>=0.11.1 in c:\\users\\vladi\\anaconda3\\envs\\xmas-hack\\lib\\site-packages (from transformers<5.0.0,>=4.6.0->sentence-transformers>=0.3.8->keybert) (0.13.2)\n",
      "Requirement already satisfied: regex!=2019.12.17 in c:\\users\\vladi\\anaconda3\\envs\\xmas-hack\\lib\\site-packages (from transformers<5.0.0,>=4.6.0->sentence-transformers>=0.3.8->keybert) (2022.10.31)\n",
      "Requirement already satisfied: colorama in c:\\users\\vladi\\anaconda3\\envs\\xmas-hack\\lib\\site-packages (from tqdm->sentence-transformers>=0.3.8->keybert) (0.4.6)\n",
      "Requirement already satisfied: click in c:\\users\\vladi\\anaconda3\\envs\\xmas-hack\\lib\\site-packages (from nltk->sentence-transformers>=0.3.8->keybert) (8.1.3)\n",
      "Requirement already satisfied: pillow!=8.3.*,>=5.3.0 in c:\\users\\vladi\\anaconda3\\envs\\xmas-hack\\lib\\site-packages (from torchvision->sentence-transformers>=0.3.8->keybert) (9.2.0)\n"
     ]
    }
   ],
   "source": [
    "!pip install striprtf pymystem3 keybert"
   ]
  },
  {
   "cell_type": "code",
   "execution_count": 116,
   "id": "2e56e6d5",
   "metadata": {},
   "outputs": [
    {
     "name": "stderr",
     "output_type": "stream",
     "text": [
      "[nltk_data] Downloading package stopwords to\n",
      "[nltk_data]     C:\\Users\\vladi\\AppData\\Roaming\\nltk_data...\n",
      "[nltk_data]   Package stopwords is already up-to-date!\n",
      "No sentence-transformers model found with name C:\\Users\\vladi/.cache\\torch\\sentence_transformers\\cointegrated_LaBSE-en-ru. Creating a new one with MEAN pooling.\n",
      "Some weights of the model checkpoint at C:\\Users\\vladi/.cache\\torch\\sentence_transformers\\cointegrated_LaBSE-en-ru were not used when initializing BertModel: ['cls.predictions.transform.LayerNorm.bias', 'cls.predictions.transform.dense.bias', 'cls.predictions.decoder.bias', 'cls.seq_relationship.weight', 'cls.seq_relationship.bias', 'cls.predictions.transform.dense.weight', 'cls.predictions.decoder.weight', 'cls.predictions.transform.LayerNorm.weight', 'cls.predictions.bias']\n",
      "- This IS expected if you are initializing BertModel from the checkpoint of a model trained on another task or with another architecture (e.g. initializing a BertForSequenceClassification model from a BertForPreTraining model).\n",
      "- This IS NOT expected if you are initializing BertModel from the checkpoint of a model that you expect to be exactly identical (initializing a BertForSequenceClassification model from a BertForSequenceClassification model).\n"
     ]
    }
   ],
   "source": [
    "import base64\n",
    "import json\n",
    "from pathlib import Path\n",
    "import re\n",
    "import os\n",
    "from string import punctuation\n",
    "from collections import defaultdict\n",
    "import random\n",
    "\n",
    "import warnings\n",
    "warnings.filterwarnings('ignore')\n",
    "\n",
    "import numpy as np\n",
    "import pandas as pd\n",
    "from pandas.io.json import json_normalize\n",
    "\n",
    "from tqdm.notebook import tqdm\n",
    "\n",
    "import requests\n",
    "\n",
    "import matplotlib.pyplot as plt\n",
    "\n",
    "from striprtf.striprtf import rtf_to_text\n",
    "\n",
    "from pymystem3 import Mystem\n",
    "\n",
    "import nltk\n",
    "nltk.download('stopwords')\n",
    "from nltk.corpus import stopwords\n",
    "rus_stopwords = stopwords.words('russian')\n",
    "# with open('trash_words.csv', encoding='utf-8') as f:\n",
    "#     rus_stopwords.extend(map(lambda x: x.strip(), f.readlines()))\n",
    "\n",
    "rus_stopwords = set(rus_stopwords)\n",
    "\n",
    "import pickle\n",
    "\n",
    "from keybert import KeyBERT\n",
    "from sentence_transformers import SentenceTransformer\n",
    "sent_embed_model = SentenceTransformer('cointegrated/LaBSE-en-ru')\n",
    "\n",
    "from sklearn.model_selection import train_test_split\n",
    "from sklearn.feature_extraction.text import TfidfVectorizer\n",
    "from sklearn.metrics import f1_score, recall_score, precision_score, classification_report, confusion_matrix, ConfusionMatrixDisplay\n",
    "\n",
    "from sklearn.tree import DecisionTreeClassifier\n",
    "from sklearn.linear_model import LogisticRegression\n",
    "\n",
    "from sklearn.preprocessing import LabelEncoder\n",
    "\n",
    "subset_punctuation = ''.join(set(punctuation) - set('.,:;!?'))"
   ]
  },
  {
   "cell_type": "code",
   "execution_count": 78,
   "id": "7d4e4853",
   "metadata": {},
   "outputs": [],
   "source": [
    "DOC_PATH = './docs/'\n",
    "ADDITIONAL_DOC_PATH = './additional_docs/'\n",
    "JSON_PATH = './classes.json'"
   ]
  },
  {
   "cell_type": "code",
   "execution_count": 79,
   "id": "fc1da57a",
   "metadata": {},
   "outputs": [],
   "source": [
    "def get_full_RTFtext(filename):\n",
    "    with open(filename) as infile:\n",
    "        content = infile.read()\n",
    "        text = rtf_to_text(content)\n",
    "\n",
    "    return text\n",
    "\n",
    "def get_text(filename):\n",
    "    with open(filename, 'rb') as f:\n",
    "        encoded = base64.b64encode(f.read())\n",
    "\n",
    "    ext = Path(filename).suffix[1:]\n",
    "    if ext == 'rtf':\n",
    "        return get_full_RTFtext(filename)\n",
    "\n",
    "    url = 'http://localhost:8080/textract'\n",
    "    myobj = {\n",
    "        'data': encoded.decode('utf-8'),\n",
    "        'file_type': ext\n",
    "    }\n",
    "\n",
    "    x = requests.post(url, json = myobj)\n",
    "\n",
    "    if x.status_code != 200:\n",
    "        return None\n",
    "        \n",
    "    return json.loads(x.text)['text']"
   ]
  },
  {
   "cell_type": "code",
   "execution_count": 81,
   "id": "e59398ff",
   "metadata": {},
   "outputs": [],
   "source": [
    "# def drop_names(my_string):\n",
    "#     emb = NewsEmbedding()\n",
    "#     ner_tagger = NewsNERTagger(emb)\n",
    "#     segmenter = Segmenter()\n",
    "#     doc = Doc(my_string)\n",
    "#     doc.segment(segmenter)\n",
    "#     doc.tag_ner(ner_tagger)\n",
    "\n",
    "#     names = [org.text for org in doc.spans if org.type =='PER']\n",
    "#     print(names)\n",
    "#     for name in names:\n",
    "#         my_string = my_string.replace(name, '')\n",
    "#     return my_string\n",
    "\n",
    "\n",
    "def normalize(text):\n",
    "    mystem = Mystem()\n",
    "\n",
    "    tokens = mystem.lemmatize(text)\n",
    "    tokens = [token for token in tokens if\n",
    "              token not in [\" \", '\\n'] \\\n",
    "              ]\n",
    "    text = ' '.join(tokens)\n",
    "    return text\n",
    "\n",
    "\n",
    "def preprocess(my_string, verbose=True, do_normalize=True, remove_punct=True, remove_stopwords=False):\n",
    "    if verbose:\n",
    "        print('-', end='')\n",
    "    \n",
    "    my_string = re.sub(r\"http\\S+\", \"\", my_string)\n",
    "    \n",
    "    my_string = re.sub(r'(\\!)(.*?)\\.((png)|(jpg)|(jpeg))', \"\", my_string)\n",
    "    my_string = re.sub(r'(\\{color)(.*?)\\}', \"\", my_string)\n",
    "#     my_string = drop_names(my_string)\n",
    "\n",
    "    if remove_punct:\n",
    "        my_string = re.sub(r'.*?\\!(.*)!.*', \"\", my_string)\n",
    "    \n",
    "    my_string = my_string.lower().strip()\n",
    "\n",
    "    if remove_punct:\n",
    "        my_string = re.sub(r'[^\\w\\s]', ' ', my_string)\n",
    "    else:\n",
    "        my_string = my_string.translate(str.maketrans({symb: '' for symb in subset_punctuation}))\n",
    "    my_string = re.sub(r'\\n', ' ', my_string)\n",
    "    my_string = re.sub(r'[0-9]+', '', my_string)\n",
    "    my_string = re.sub(r'  *', ' ', my_string)\n",
    "    my_string = my_string.strip()\n",
    "    if do_normalize:\n",
    "        my_string = normalize(my_string)\n",
    "    my_string = re.sub( r'  *', ' ', my_string)\n",
    "    my_string = ' '.join([el for el in my_string.strip().split() if len(el) > 1])\n",
    "    my_string = my_string.replace('_', '')\n",
    "    if not remove_punct:\n",
    "        my_string = re.sub(r'\\.{2,}', ' ', my_string)\n",
    "        my_string = re.sub( r'  *', ' ', my_string)\n",
    "    \n",
    "    if remove_stopwords:\n",
    "        my_string = ' '.join(filter(lambda x: x not in rus_stopwords, my_string.split()))\n",
    "    \n",
    "    return my_string"
   ]
  },
  {
   "cell_type": "code",
   "execution_count": 82,
   "id": "383de5da",
   "metadata": {},
   "outputs": [],
   "source": [
    "def read(filepath):\n",
    "    text = get_text(filepath).replace('\\n', ' ')\n",
    "    return text"
   ]
  },
  {
   "cell_type": "code",
   "execution_count": 9,
   "id": "d4c41bfc",
   "metadata": {},
   "outputs": [],
   "source": [
    "filepath = 'docs/0b4be82b86eff410d69d1d6b5553d220.docx'\n",
    "with open(filepath, 'rb') as f:\n",
    "    encoded = base64.b64encode(f.read())\n",
    "with open('sample.base64.txt', 'w', encoding='utf-8') as f:\n",
    "    f.write(encoded.decode('utf-8'))"
   ]
  },
  {
   "attachments": {},
   "cell_type": "markdown",
   "id": "d4b1fe5b",
   "metadata": {},
   "source": [
    "# Извлечение ключевых фраз\n",
    "\n",
    "С помощью библиотеки KeyBERT были извлечены ключевые фразы из каждого текста, из них потом составлялся словарь tfidf."
   ]
  },
  {
   "cell_type": "code",
   "execution_count": 58,
   "id": "cee06572",
   "metadata": {},
   "outputs": [
    {
     "data": {
      "text/plain": [
       "(768,)"
      ]
     },
     "execution_count": 58,
     "metadata": {},
     "output_type": "execute_result"
    }
   ],
   "source": [
    "def get_large_text_embedding(text, model=sent_embed_model, n_tokens=250, overlapping_size=20):\n",
    "    parts = []\n",
    "    i = 0\n",
    "    tokens = text.split()\n",
    "    while i < len(tokens):\n",
    "        part = tokens[max(0, i):min(i - n_tokens, len(tokens))]\n",
    "        i += n_tokens - overlapping_size\n",
    "        parts.append(' '.join(part))\n",
    "    text_embed = model.encode(parts).mean(axis=0)\n",
    "    return text_embed\n",
    "\n",
    "get_large_text_embedding(read('docs/cf89a65d4477656ec05262ae55bb6aaa.doc')).shape"
   ]
  },
  {
   "cell_type": "code",
   "execution_count": 54,
   "id": "aa995324",
   "metadata": {},
   "outputs": [],
   "source": [
    "kw_model = KeyBERT(model=sent_embed_model)"
   ]
  },
  {
   "cell_type": "code",
   "execution_count": 137,
   "id": "8ae7eec9",
   "metadata": {},
   "outputs": [],
   "source": [
    "sample_doc = preprocess(read('docs/cf89a65d4477656ec05262ae55bb6aaa.doc'), verbose=False, do_normalize=False, remove_punct=False)\n",
    "kw = list(map(lambda x: x[0], \n",
    "         kw_model.extract_keywords(\n",
    "            [sample_doc], \n",
    "            keyphrase_ngram_range=(1, 3), \n",
    "            doc_embeddings=[get_large_text_embedding(sample_doc)],\n",
    "            diversity=0.7,\n",
    "            use_mmr=True)))"
   ]
  },
  {
   "cell_type": "code",
   "execution_count": null,
   "id": "f923a7c9",
   "metadata": {},
   "outputs": [],
   "source": [
    "texts = []\n",
    "\n",
    "for filename in tqdm(os.listdir(DOC_PATH)):\n",
    "    try:\n",
    "        text = preprocess(read(os.path.join(DOC_PATH, filename)), verbose=False, do_normalize=False, remove_punct=False)\n",
    "        texts.append(text)\n",
    "    except Exception:\n",
    "        continue\n",
    "\n",
    "with open('bert_processed_texts.txt', 'w', encoding='utf-8') as f:\n",
    "    f.write('\\n'.join(texts))"
   ]
  },
  {
   "cell_type": "code",
   "execution_count": null,
   "id": "f618c5c4",
   "metadata": {},
   "outputs": [],
   "source": [
    "texts = []\n",
    "\n",
    "for filename in tqdm(os.listdir(DOC_PATH)):\n",
    "    try:\n",
    "        text = preprocess(read(os.path.join(DOC_PATH, filename)), verbose=False, do_normalize=False, remove_punct=False)\n",
    "        texts.append(text)\n",
    "    except Exception:\n",
    "        continue\n",
    "\n",
    "for folder in tqdm(os.listdir(ADDITIONAL_DOC_PATH)):\n",
    "    folder_path = os.path.join(ADDITIONAL_DOC_PATH, folder)\n",
    "    for filename in tqdm(os.listdir(folder_path)):\n",
    "        try:\n",
    "            text = preprocess(read(os.path.join(folder_path, filename)), verbose=False, do_normalize=False, remove_punct=False)\n",
    "            texts.append(text)\n",
    "        except Exception:\n",
    "            continue\n",
    "\n",
    "with open('bert_processed_texts2.txt', 'w', encoding='utf-8') as f:\n",
    "    f.write('\\n'.join(texts))"
   ]
  },
  {
   "cell_type": "code",
   "execution_count": null,
   "id": "b1c355eb",
   "metadata": {},
   "outputs": [],
   "source": [
    "texts = []\n",
    "embeddings = []\n",
    "keywords = []\n",
    "\n",
    "with open('bert_processed_texts2.txt', encoding='utf-8') as f:\n",
    "    texts = f.readlines()\n",
    "\n",
    "for text in tqdm(texts):\n",
    "    embeddings.append(get_large_text_embedding(text))\n",
    "\n",
    "print('Embeddings calculated!')\n",
    "\n",
    "embeddings = np.array(embeddings)\n",
    "\n",
    "kw = kw_model.extract_keywords(\n",
    "        texts, \n",
    "        keyphrase_ngram_range=(1, 1), \n",
    "        doc_embeddings=embeddings,\n",
    "        diversity=0.7,\n",
    "        use_mmr=True,\n",
    "        top_n=75)\n",
    "\n",
    "for k in kw:\n",
    "    kw_ = list(map(lambda x: x[0], k))\n",
    "    keywords.extend(kw_)\n",
    "\n",
    "kw = kw_model.extract_keywords(\n",
    "        texts, \n",
    "        keyphrase_ngram_range=(2, 2), \n",
    "        doc_embeddings=embeddings,\n",
    "        diversity=0.7,\n",
    "        use_mmr=True,\n",
    "        top_n=100)\n",
    "\n",
    "for k in kw:\n",
    "    kw_ = list(map(lambda x: x[0], k))\n",
    "    keywords.extend(kw_)"
   ]
  },
  {
   "cell_type": "code",
   "execution_count": null,
   "id": "0e39d8fe",
   "metadata": {},
   "outputs": [],
   "source": [
    "with open('keyphrases2.txt', 'w', encoding='utf-8') as f:\n",
    "    f.write('\\n'.join(keywords))"
   ]
  },
  {
   "cell_type": "code",
   "execution_count": 22,
   "id": "96c02ea4",
   "metadata": {},
   "outputs": [
    {
     "name": "stdout",
     "output_type": "stream",
     "text": [
      "-"
     ]
    }
   ],
   "source": [
    "with open('keyphrases2.txt', encoding='utf-8') as f:\n",
    "    keyphrases = f.readlines()\n",
    "\n",
    "processed_keyphrases = preprocess(' ддд '.join(keyphrases)).split(' ддд ')\n",
    "\n",
    "proc2orig = defaultdict(list)\n",
    "for idx, keyph in enumerate(processed_keyphrases):\n",
    "    proc2orig[keyph].append(keyphrases[idx])"
   ]
  },
  {
   "cell_type": "markdown",
   "id": "f547aee1",
   "metadata": {},
   "source": [
    "# Предобработка текста"
   ]
  },
  {
   "cell_type": "code",
   "execution_count": 122,
   "id": "007d5956",
   "metadata": {},
   "outputs": [
    {
     "data": {
      "text/html": [
       "<div>\n",
       "<style scoped>\n",
       "    .dataframe tbody tr th:only-of-type {\n",
       "        vertical-align: middle;\n",
       "    }\n",
       "\n",
       "    .dataframe tbody tr th {\n",
       "        vertical-align: top;\n",
       "    }\n",
       "\n",
       "    .dataframe thead th {\n",
       "        text-align: right;\n",
       "    }\n",
       "</style>\n",
       "<table border=\"1\" class=\"dataframe\">\n",
       "  <thead>\n",
       "    <tr style=\"text-align: right;\">\n",
       "      <th></th>\n",
       "      <th>filenames</th>\n",
       "      <th>text</th>\n",
       "      <th>label</th>\n",
       "    </tr>\n",
       "  </thead>\n",
       "  <tbody>\n",
       "    <tr>\n",
       "      <th>0</th>\n",
       "      <td>17_10_2022g_Dogovor_Arendy_Komnaty_V_Obschezhi...</td>\n",
       "      <td>\\n                                      ДОГОВО...</td>\n",
       "      <td>Договоры для акселератора/Договоры аренды</td>\n",
       "    </tr>\n",
       "    <tr>\n",
       "      <th>1</th>\n",
       "      <td>1Obrazets-dogovora-kupli-prodazhi-garazha.doc</td>\n",
       "      <td>\\n                        ДОГОВОР КУПЛИ-ПРОДАЖ...</td>\n",
       "      <td>Договоры для акселератора/Договоры купли-продажи</td>\n",
       "    </tr>\n",
       "    <tr>\n",
       "      <th>2</th>\n",
       "      <td>1_Dogovor_Kupli_Sokolnikova_Dol14_1-1_Akkred_v...</td>\n",
       "      <td>ДОГОВОР  \\n\\nКУПЛИ-ПРОДАЖИ  КВАРТИРЫ\\n\\n\\n\\nГо...</td>\n",
       "      <td>Договоры для акселератора/Договоры купли-продажи</td>\n",
       "    </tr>\n",
       "    <tr>\n",
       "      <th>3</th>\n",
       "      <td>2021_Leto_Prilozhenie_K_Dogovoru_O_Peredache_R...</td>\n",
       "      <td>Правила направления и нахождения детей в детск...</td>\n",
       "      <td>Шум</td>\n",
       "    </tr>\n",
       "    <tr>\n",
       "      <th>4</th>\n",
       "      <td>33_Dogovor-Oferta_Zhivoy_Zhenchiny.pdf</td>\n",
       "      <td>Договор-оферта живой Женчины\\nДОГОВОР-ОФЕРТА\\n...</td>\n",
       "      <td>Шум</td>\n",
       "    </tr>\n",
       "    <tr>\n",
       "      <th>...</th>\n",
       "      <td>...</td>\n",
       "      <td>...</td>\n",
       "      <td>...</td>\n",
       "    </tr>\n",
       "    <tr>\n",
       "      <th>225</th>\n",
       "      <td>f57fe87f15a6dee2b17e804421be63b5.pdf</td>\n",
       "      <td>Страница 1 из 8 \\n  \\nДОГОВОР КУПЛИ -ПРОДАЖИ …...</td>\n",
       "      <td>Договоры для акселератора/Договоры купли-продажи</td>\n",
       "    </tr>\n",
       "    <tr>\n",
       "      <th>226</th>\n",
       "      <td>f6377999f8a5aa9a09b03e428ac93153.doc</td>\n",
       "      <td>ДОГОВОР     г._____________________           ...</td>\n",
       "      <td>Договоры для акселератора/Договоры поставки</td>\n",
       "    </tr>\n",
       "    <tr>\n",
       "      <th>227</th>\n",
       "      <td>f8eabec67b770c384d84f9feb7e02543.doc</td>\n",
       "      <td>Приложение № 10ДОГОВОР № _______г. Москва     ...</td>\n",
       "      <td>Договоры для акселератора/Договоры оказания услуг</td>\n",
       "    </tr>\n",
       "    <tr>\n",
       "      <th>228</th>\n",
       "      <td>f96c2a58215aa54aeb6713cbb457fad9.doc</td>\n",
       "      <td>ДОГОВОР № _______г. Москва                    ...</td>\n",
       "      <td>Договоры для акселератора/Договоры оказания услуг</td>\n",
       "    </tr>\n",
       "    <tr>\n",
       "      <th>229</th>\n",
       "      <td>ff6882cb4a3ec31dec18a94e1d1745b1.doc</td>\n",
       "      <td>Договор №_______г. ______                     ...</td>\n",
       "      <td>Договоры для акселератора/Договоры купли-продажи</td>\n",
       "    </tr>\n",
       "  </tbody>\n",
       "</table>\n",
       "<p>222 rows × 3 columns</p>\n",
       "</div>"
      ],
      "text/plain": [
       "                                             filenames  \\\n",
       "0    17_10_2022g_Dogovor_Arendy_Komnaty_V_Obschezhi...   \n",
       "1        1Obrazets-dogovora-kupli-prodazhi-garazha.doc   \n",
       "2    1_Dogovor_Kupli_Sokolnikova_Dol14_1-1_Akkred_v...   \n",
       "3    2021_Leto_Prilozhenie_K_Dogovoru_O_Peredache_R...   \n",
       "4               33_Dogovor-Oferta_Zhivoy_Zhenchiny.pdf   \n",
       "..                                                 ...   \n",
       "225               f57fe87f15a6dee2b17e804421be63b5.pdf   \n",
       "226               f6377999f8a5aa9a09b03e428ac93153.doc   \n",
       "227               f8eabec67b770c384d84f9feb7e02543.doc   \n",
       "228               f96c2a58215aa54aeb6713cbb457fad9.doc   \n",
       "229               ff6882cb4a3ec31dec18a94e1d1745b1.doc   \n",
       "\n",
       "                                                  text  \\\n",
       "0    \\n                                      ДОГОВО...   \n",
       "1    \\n                        ДОГОВОР КУПЛИ-ПРОДАЖ...   \n",
       "2    ДОГОВОР  \\n\\nКУПЛИ-ПРОДАЖИ  КВАРТИРЫ\\n\\n\\n\\nГо...   \n",
       "3    Правила направления и нахождения детей в детск...   \n",
       "4    Договор-оферта живой Женчины\\nДОГОВОР-ОФЕРТА\\n...   \n",
       "..                                                 ...   \n",
       "225  Страница 1 из 8 \\n  \\nДОГОВОР КУПЛИ -ПРОДАЖИ …...   \n",
       "226  ДОГОВОР     г._____________________           ...   \n",
       "227  Приложение № 10ДОГОВОР № _______г. Москва     ...   \n",
       "228  ДОГОВОР № _______г. Москва                    ...   \n",
       "229  Договор №_______г. ______                     ...   \n",
       "\n",
       "                                                 label  \n",
       "0            Договоры для акселератора/Договоры аренды  \n",
       "1     Договоры для акселератора/Договоры купли-продажи  \n",
       "2     Договоры для акселератора/Договоры купли-продажи  \n",
       "3                                                  Шум  \n",
       "4                                                  Шум  \n",
       "..                                                 ...  \n",
       "225   Договоры для акселератора/Договоры купли-продажи  \n",
       "226        Договоры для акселератора/Договоры поставки  \n",
       "227  Договоры для акселератора/Договоры оказания услуг  \n",
       "228  Договоры для акселератора/Договоры оказания услуг  \n",
       "229   Договоры для акселератора/Договоры купли-продажи  \n",
       "\n",
       "[222 rows x 3 columns]"
      ]
     },
     "execution_count": 122,
     "metadata": {},
     "output_type": "execute_result"
    }
   ],
   "source": [
    "data = pd.read_csv('dataset_noise.csv')\n",
    "data.dropna(inplace=True)\n",
    "data"
   ]
  },
  {
   "cell_type": "code",
   "execution_count": 124,
   "id": "1dc4bb86",
   "metadata": {},
   "outputs": [
    {
     "name": "stdout",
     "output_type": "stream",
     "text": [
      "------------------------------------------------------------------------------------------------------------------------------------------------------------------------------------------------------------------------------"
     ]
    }
   ],
   "source": [
    "data['text'] = data['text'].map(lambda x: preprocess(x, remove_stopwords=True))"
   ]
  },
  {
   "cell_type": "code",
   "execution_count": 125,
   "id": "f814a93d",
   "metadata": {},
   "outputs": [
    {
     "data": {
      "text/html": [
       "<div>\n",
       "<style scoped>\n",
       "    .dataframe tbody tr th:only-of-type {\n",
       "        vertical-align: middle;\n",
       "    }\n",
       "\n",
       "    .dataframe tbody tr th {\n",
       "        vertical-align: top;\n",
       "    }\n",
       "\n",
       "    .dataframe thead th {\n",
       "        text-align: right;\n",
       "    }\n",
       "</style>\n",
       "<table border=\"1\" class=\"dataframe\">\n",
       "  <thead>\n",
       "    <tr style=\"text-align: right;\">\n",
       "      <th></th>\n",
       "      <th>filenames</th>\n",
       "      <th>text</th>\n",
       "      <th>label</th>\n",
       "    </tr>\n",
       "  </thead>\n",
       "  <tbody>\n",
       "    <tr>\n",
       "      <th>0</th>\n",
       "      <td>17_10_2022g_Dogovor_Arendy_Komnaty_V_Obschezhi...</td>\n",
       "      <td>договор аренда комната нижеподписавшийся индив...</td>\n",
       "      <td>Договоры для акселератора/Договоры аренды</td>\n",
       "    </tr>\n",
       "    <tr>\n",
       "      <th>1</th>\n",
       "      <td>1Obrazets-dogovora-kupli-prodazhi-garazha.doc</td>\n",
       "      <td>договор купля продажа гараж новосибирск ноябрь...</td>\n",
       "      <td>Договоры для акселератора/Договоры купли-продажи</td>\n",
       "    </tr>\n",
       "    <tr>\n",
       "      <th>2</th>\n",
       "      <td>1_Dogovor_Kupli_Sokolnikova_Dol14_1-1_Akkred_v...</td>\n",
       "      <td>договор купля продажа квартира город набережна...</td>\n",
       "      <td>Договоры для акселератора/Договоры купли-продажи</td>\n",
       "    </tr>\n",
       "    <tr>\n",
       "      <th>3</th>\n",
       "      <td>2021_Leto_Prilozhenie_K_Dogovoru_O_Peredache_R...</td>\n",
       "      <td>правило направление нахождение ребенок детский...</td>\n",
       "      <td>Шум</td>\n",
       "    </tr>\n",
       "    <tr>\n",
       "      <th>4</th>\n",
       "      <td>33_Dogovor-Oferta_Zhivoy_Zhenchiny.pdf</td>\n",
       "      <td>договор оферта живой женчина договор оферта жи...</td>\n",
       "      <td>Шум</td>\n",
       "    </tr>\n",
       "    <tr>\n",
       "      <th>...</th>\n",
       "      <td>...</td>\n",
       "      <td>...</td>\n",
       "      <td>...</td>\n",
       "    </tr>\n",
       "    <tr>\n",
       "      <th>225</th>\n",
       "      <td>f57fe87f15a6dee2b17e804421be63b5.pdf</td>\n",
       "      <td>страница договор купля продажа оборудование бы...</td>\n",
       "      <td>Договоры для акселератора/Договоры купли-продажи</td>\n",
       "    </tr>\n",
       "    <tr>\n",
       "      <th>226</th>\n",
       "      <td>f6377999f8a5aa9a09b03e428ac93153.doc</td>\n",
       "      <td>договор предприятие дальнейшемименовать постав...</td>\n",
       "      <td>Договоры для акселератора/Договоры поставки</td>\n",
       "    </tr>\n",
       "    <tr>\n",
       "      <th>227</th>\n",
       "      <td>f8eabec67b770c384d84f9feb7e02543.doc</td>\n",
       "      <td>приложение договор москва краткий полный наиме...</td>\n",
       "      <td>Договоры для акселератора/Договоры оказания услуг</td>\n",
       "    </tr>\n",
       "    <tr>\n",
       "      <th>228</th>\n",
       "      <td>f96c2a58215aa54aeb6713cbb457fad9.doc</td>\n",
       "      <td>договор москва краткий полный наименование име...</td>\n",
       "      <td>Договоры для акселератора/Договоры оказания услуг</td>\n",
       "    </tr>\n",
       "    <tr>\n",
       "      <th>229</th>\n",
       "      <td>ff6882cb4a3ec31dec18a94e1d1745b1.doc</td>\n",
       "      <td>договор именовать дальнейший продавец лицо дей...</td>\n",
       "      <td>Договоры для акселератора/Договоры купли-продажи</td>\n",
       "    </tr>\n",
       "  </tbody>\n",
       "</table>\n",
       "<p>222 rows × 3 columns</p>\n",
       "</div>"
      ],
      "text/plain": [
       "                                             filenames  \\\n",
       "0    17_10_2022g_Dogovor_Arendy_Komnaty_V_Obschezhi...   \n",
       "1        1Obrazets-dogovora-kupli-prodazhi-garazha.doc   \n",
       "2    1_Dogovor_Kupli_Sokolnikova_Dol14_1-1_Akkred_v...   \n",
       "3    2021_Leto_Prilozhenie_K_Dogovoru_O_Peredache_R...   \n",
       "4               33_Dogovor-Oferta_Zhivoy_Zhenchiny.pdf   \n",
       "..                                                 ...   \n",
       "225               f57fe87f15a6dee2b17e804421be63b5.pdf   \n",
       "226               f6377999f8a5aa9a09b03e428ac93153.doc   \n",
       "227               f8eabec67b770c384d84f9feb7e02543.doc   \n",
       "228               f96c2a58215aa54aeb6713cbb457fad9.doc   \n",
       "229               ff6882cb4a3ec31dec18a94e1d1745b1.doc   \n",
       "\n",
       "                                                  text  \\\n",
       "0    договор аренда комната нижеподписавшийся индив...   \n",
       "1    договор купля продажа гараж новосибирск ноябрь...   \n",
       "2    договор купля продажа квартира город набережна...   \n",
       "3    правило направление нахождение ребенок детский...   \n",
       "4    договор оферта живой женчина договор оферта жи...   \n",
       "..                                                 ...   \n",
       "225  страница договор купля продажа оборудование бы...   \n",
       "226  договор предприятие дальнейшемименовать постав...   \n",
       "227  приложение договор москва краткий полный наиме...   \n",
       "228  договор москва краткий полный наименование име...   \n",
       "229  договор именовать дальнейший продавец лицо дей...   \n",
       "\n",
       "                                                 label  \n",
       "0            Договоры для акселератора/Договоры аренды  \n",
       "1     Договоры для акселератора/Договоры купли-продажи  \n",
       "2     Договоры для акселератора/Договоры купли-продажи  \n",
       "3                                                  Шум  \n",
       "4                                                  Шум  \n",
       "..                                                 ...  \n",
       "225   Договоры для акселератора/Договоры купли-продажи  \n",
       "226        Договоры для акселератора/Договоры поставки  \n",
       "227  Договоры для акселератора/Договоры оказания услуг  \n",
       "228  Договоры для акселератора/Договоры оказания услуг  \n",
       "229   Договоры для акселератора/Договоры купли-продажи  \n",
       "\n",
       "[222 rows x 3 columns]"
      ]
     },
     "execution_count": 125,
     "metadata": {},
     "output_type": "execute_result"
    }
   ],
   "source": [
    "data"
   ]
  },
  {
   "cell_type": "code",
   "execution_count": 126,
   "id": "1c98f8d1",
   "metadata": {},
   "outputs": [],
   "source": [
    "le = LabelEncoder()\n",
    "\n",
    "data['label_encoded'] = le.fit_transform(data['label'])\n",
    "\n",
    "pickle.dump(le, open('LabelEncoder2.pkl', 'wb'))"
   ]
  },
  {
   "cell_type": "code",
   "execution_count": 128,
   "id": "f3a024a3",
   "metadata": {},
   "outputs": [
    {
     "data": {
      "text/html": [
       "<div>\n",
       "<style scoped>\n",
       "    .dataframe tbody tr th:only-of-type {\n",
       "        vertical-align: middle;\n",
       "    }\n",
       "\n",
       "    .dataframe tbody tr th {\n",
       "        vertical-align: top;\n",
       "    }\n",
       "\n",
       "    .dataframe thead th {\n",
       "        text-align: right;\n",
       "    }\n",
       "</style>\n",
       "<table border=\"1\" class=\"dataframe\">\n",
       "  <thead>\n",
       "    <tr style=\"text-align: right;\">\n",
       "      <th></th>\n",
       "      <th>text</th>\n",
       "      <th>label_encoded</th>\n",
       "    </tr>\n",
       "  </thead>\n",
       "  <tbody>\n",
       "    <tr>\n",
       "      <th>0</th>\n",
       "      <td>договор аренда комната нижеподписавшийся индив...</td>\n",
       "      <td>0</td>\n",
       "    </tr>\n",
       "    <tr>\n",
       "      <th>1</th>\n",
       "      <td>договор купля продажа гараж новосибирск ноябрь...</td>\n",
       "      <td>1</td>\n",
       "    </tr>\n",
       "    <tr>\n",
       "      <th>2</th>\n",
       "      <td>договор купля продажа квартира город набережна...</td>\n",
       "      <td>1</td>\n",
       "    </tr>\n",
       "    <tr>\n",
       "      <th>3</th>\n",
       "      <td>правило направление нахождение ребенок детский...</td>\n",
       "      <td>5</td>\n",
       "    </tr>\n",
       "    <tr>\n",
       "      <th>4</th>\n",
       "      <td>договор оферта живой женчина договор оферта жи...</td>\n",
       "      <td>5</td>\n",
       "    </tr>\n",
       "    <tr>\n",
       "      <th>...</th>\n",
       "      <td>...</td>\n",
       "      <td>...</td>\n",
       "    </tr>\n",
       "    <tr>\n",
       "      <th>225</th>\n",
       "      <td>страница договор купля продажа оборудование бы...</td>\n",
       "      <td>1</td>\n",
       "    </tr>\n",
       "    <tr>\n",
       "      <th>226</th>\n",
       "      <td>договор предприятие дальнейшемименовать постав...</td>\n",
       "      <td>4</td>\n",
       "    </tr>\n",
       "    <tr>\n",
       "      <th>227</th>\n",
       "      <td>приложение договор москва краткий полный наиме...</td>\n",
       "      <td>2</td>\n",
       "    </tr>\n",
       "    <tr>\n",
       "      <th>228</th>\n",
       "      <td>договор москва краткий полный наименование име...</td>\n",
       "      <td>2</td>\n",
       "    </tr>\n",
       "    <tr>\n",
       "      <th>229</th>\n",
       "      <td>договор именовать дальнейший продавец лицо дей...</td>\n",
       "      <td>1</td>\n",
       "    </tr>\n",
       "  </tbody>\n",
       "</table>\n",
       "<p>222 rows × 2 columns</p>\n",
       "</div>"
      ],
      "text/plain": [
       "                                                  text  label_encoded\n",
       "0    договор аренда комната нижеподписавшийся индив...              0\n",
       "1    договор купля продажа гараж новосибирск ноябрь...              1\n",
       "2    договор купля продажа квартира город набережна...              1\n",
       "3    правило направление нахождение ребенок детский...              5\n",
       "4    договор оферта живой женчина договор оферта жи...              5\n",
       "..                                                 ...            ...\n",
       "225  страница договор купля продажа оборудование бы...              1\n",
       "226  договор предприятие дальнейшемименовать постав...              4\n",
       "227  приложение договор москва краткий полный наиме...              2\n",
       "228  договор москва краткий полный наименование име...              2\n",
       "229  договор именовать дальнейший продавец лицо дей...              1\n",
       "\n",
       "[222 rows x 2 columns]"
      ]
     },
     "execution_count": 128,
     "metadata": {},
     "output_type": "execute_result"
    }
   ],
   "source": [
    "data_relevant = data[['text', 'label_encoded']]\n",
    "data_relevant"
   ]
  },
  {
   "cell_type": "code",
   "execution_count": 129,
   "id": "0a868065",
   "metadata": {},
   "outputs": [
    {
     "data": {
      "text/plain": [
       "Договоры для акселератора/Договоры оказания услуг    46\n",
       "Договоры для акселератора/Договоры аренды            40\n",
       "Договоры для акселератора/Договоры купли-продажи     37\n",
       "Шум                                                  37\n",
       "Договоры для акселератора/Договоры поставки          35\n",
       "Договоры для акселератора/Договоры подряда           27\n",
       "Name: label, dtype: int64"
      ]
     },
     "execution_count": 129,
     "metadata": {},
     "output_type": "execute_result"
    }
   ],
   "source": [
    "data['label'].value_counts()"
   ]
  },
  {
   "cell_type": "code",
   "execution_count": 130,
   "id": "defbc0d1",
   "metadata": {},
   "outputs": [],
   "source": [
    "X_train, X_test, y_train, y_test = train_test_split(data_relevant.text, data_relevant.label_encoded, test_size=0.3)"
   ]
  },
  {
   "cell_type": "code",
   "execution_count": 132,
   "id": "7f31f331",
   "metadata": {},
   "outputs": [],
   "source": [
    "tfidf = TfidfVectorizer(vocabulary=set(processed_keyphrases))\n",
    "# tfidf = TfidfVectorizer(min_df=0.1, max_df=0.9, )\n",
    "\n",
    "train_vecs = tfidf.fit_transform(X_train)\n",
    "test_vecs = tfidf.transform(X_test)"
   ]
  },
  {
   "cell_type": "code",
   "execution_count": 133,
   "id": "bf964a57",
   "metadata": {},
   "outputs": [],
   "source": [
    "pickle.dump(tfidf, open('tfidf2.pkl', 'wb'))"
   ]
  },
  {
   "cell_type": "code",
   "execution_count": 134,
   "id": "be81e12f",
   "metadata": {},
   "outputs": [],
   "source": [
    "whole_dataset_vecs = tfidf.fit_transform(data_relevant.text)\n",
    "whole_dataset_label = data_relevant.label_encoded.values"
   ]
  },
  {
   "cell_type": "code",
   "execution_count": 136,
   "id": "9d9f7911",
   "metadata": {},
   "outputs": [
    {
     "data": {
      "text/html": [
       "<style>#sk-container-id-3 {color: black;background-color: white;}#sk-container-id-3 pre{padding: 0;}#sk-container-id-3 div.sk-toggleable {background-color: white;}#sk-container-id-3 label.sk-toggleable__label {cursor: pointer;display: block;width: 100%;margin-bottom: 0;padding: 0.3em;box-sizing: border-box;text-align: center;}#sk-container-id-3 label.sk-toggleable__label-arrow:before {content: \"▸\";float: left;margin-right: 0.25em;color: #696969;}#sk-container-id-3 label.sk-toggleable__label-arrow:hover:before {color: black;}#sk-container-id-3 div.sk-estimator:hover label.sk-toggleable__label-arrow:before {color: black;}#sk-container-id-3 div.sk-toggleable__content {max-height: 0;max-width: 0;overflow: hidden;text-align: left;background-color: #f0f8ff;}#sk-container-id-3 div.sk-toggleable__content pre {margin: 0.2em;color: black;border-radius: 0.25em;background-color: #f0f8ff;}#sk-container-id-3 input.sk-toggleable__control:checked~div.sk-toggleable__content {max-height: 200px;max-width: 100%;overflow: auto;}#sk-container-id-3 input.sk-toggleable__control:checked~label.sk-toggleable__label-arrow:before {content: \"▾\";}#sk-container-id-3 div.sk-estimator input.sk-toggleable__control:checked~label.sk-toggleable__label {background-color: #d4ebff;}#sk-container-id-3 div.sk-label input.sk-toggleable__control:checked~label.sk-toggleable__label {background-color: #d4ebff;}#sk-container-id-3 input.sk-hidden--visually {border: 0;clip: rect(1px 1px 1px 1px);clip: rect(1px, 1px, 1px, 1px);height: 1px;margin: -1px;overflow: hidden;padding: 0;position: absolute;width: 1px;}#sk-container-id-3 div.sk-estimator {font-family: monospace;background-color: #f0f8ff;border: 1px dotted black;border-radius: 0.25em;box-sizing: border-box;margin-bottom: 0.5em;}#sk-container-id-3 div.sk-estimator:hover {background-color: #d4ebff;}#sk-container-id-3 div.sk-parallel-item::after {content: \"\";width: 100%;border-bottom: 1px solid gray;flex-grow: 1;}#sk-container-id-3 div.sk-label:hover label.sk-toggleable__label {background-color: #d4ebff;}#sk-container-id-3 div.sk-serial::before {content: \"\";position: absolute;border-left: 1px solid gray;box-sizing: border-box;top: 0;bottom: 0;left: 50%;z-index: 0;}#sk-container-id-3 div.sk-serial {display: flex;flex-direction: column;align-items: center;background-color: white;padding-right: 0.2em;padding-left: 0.2em;position: relative;}#sk-container-id-3 div.sk-item {position: relative;z-index: 1;}#sk-container-id-3 div.sk-parallel {display: flex;align-items: stretch;justify-content: center;background-color: white;position: relative;}#sk-container-id-3 div.sk-item::before, #sk-container-id-3 div.sk-parallel-item::before {content: \"\";position: absolute;border-left: 1px solid gray;box-sizing: border-box;top: 0;bottom: 0;left: 50%;z-index: -1;}#sk-container-id-3 div.sk-parallel-item {display: flex;flex-direction: column;z-index: 1;position: relative;background-color: white;}#sk-container-id-3 div.sk-parallel-item:first-child::after {align-self: flex-end;width: 50%;}#sk-container-id-3 div.sk-parallel-item:last-child::after {align-self: flex-start;width: 50%;}#sk-container-id-3 div.sk-parallel-item:only-child::after {width: 0;}#sk-container-id-3 div.sk-dashed-wrapped {border: 1px dashed gray;margin: 0 0.4em 0.5em 0.4em;box-sizing: border-box;padding-bottom: 0.4em;background-color: white;}#sk-container-id-3 div.sk-label label {font-family: monospace;font-weight: bold;display: inline-block;line-height: 1.2em;}#sk-container-id-3 div.sk-label-container {text-align: center;}#sk-container-id-3 div.sk-container {/* jupyter's `normalize.less` sets `[hidden] { display: none; }` but bootstrap.min.css set `[hidden] { display: none !important; }` so we also need the `!important` here to be able to override the default hidden behavior on the sphinx rendered scikit-learn.org. See: https://github.com/scikit-learn/scikit-learn/issues/21755 */display: inline-block !important;position: relative;}#sk-container-id-3 div.sk-text-repr-fallback {display: none;}</style><div id=\"sk-container-id-3\" class=\"sk-top-container\"><div class=\"sk-text-repr-fallback\"><pre>LogisticRegression()</pre><b>In a Jupyter environment, please rerun this cell to show the HTML representation or trust the notebook. <br />On GitHub, the HTML representation is unable to render, please try loading this page with nbviewer.org.</b></div><div class=\"sk-container\" hidden><div class=\"sk-item\"><div class=\"sk-estimator sk-toggleable\"><input class=\"sk-toggleable__control sk-hidden--visually\" id=\"sk-estimator-id-3\" type=\"checkbox\" checked><label for=\"sk-estimator-id-3\" class=\"sk-toggleable__label sk-toggleable__label-arrow\">LogisticRegression</label><div class=\"sk-toggleable__content\"><pre>LogisticRegression()</pre></div></div></div></div></div>"
      ],
      "text/plain": [
       "LogisticRegression()"
      ]
     },
     "execution_count": 136,
     "metadata": {},
     "output_type": "execute_result"
    }
   ],
   "source": [
    "model = LogisticRegression()\n",
    "\n",
    "model.fit(train_vecs, y_train)"
   ]
  },
  {
   "cell_type": "code",
   "execution_count": 137,
   "id": "509c1d4c",
   "metadata": {},
   "outputs": [],
   "source": [
    "pickle.dump(model, open('logistic_model2.pkl', 'wb'))"
   ]
  },
  {
   "cell_type": "code",
   "execution_count": 138,
   "id": "54db4e26",
   "metadata": {},
   "outputs": [],
   "source": [
    "predictions = model.predict(test_vecs)"
   ]
  },
  {
   "cell_type": "code",
   "execution_count": 139,
   "id": "a1deeecb",
   "metadata": {},
   "outputs": [
    {
     "name": "stdout",
     "output_type": "stream",
     "text": [
      "              precision    recall  f1-score   support\n",
      "\n",
      "           0       0.92      0.92      0.92        13\n",
      "           1       0.93      1.00      0.96        13\n",
      "           2       1.00      0.80      0.89        10\n",
      "           3       1.00      0.86      0.92         7\n",
      "           4       1.00      0.91      0.95        11\n",
      "           5       0.75      0.92      0.83        13\n",
      "\n",
      "    accuracy                           0.91        67\n",
      "   macro avg       0.93      0.90      0.91        67\n",
      "weighted avg       0.92      0.91      0.91        67\n",
      "\n"
     ]
    }
   ],
   "source": [
    "print(classification_report(y_test, predictions))"
   ]
  },
  {
   "cell_type": "code",
   "execution_count": 140,
   "id": "8edd2920",
   "metadata": {},
   "outputs": [
    {
     "data": {
      "image/png": "[encoded data removed]",
      "text/plain": [
       "<Figure size 640x480 with 2 Axes>"
      ]
     },
     "metadata": {},
     "output_type": "display_data"
    }
   ],
   "source": [
    "cm_norm = confusion_matrix(y_test, predictions)\n",
    "disp_norm = ConfusionMatrixDisplay(confusion_matrix=cm_norm)\n",
    "disp_norm.plot()\n",
    "plt.show()"
   ]
  },
  {
   "cell_type": "code",
   "execution_count": 142,
   "id": "6bb8892f",
   "metadata": {},
   "outputs": [
    {
     "name": "stdout",
     "output_type": "stream",
     "text": [
      "              precision    recall  f1-score   support\n",
      "\n",
      "           0       0.73      0.85      0.79        13\n",
      "           1       0.93      1.00      0.96        13\n",
      "           2       1.00      0.40      0.57        10\n",
      "           3       0.67      0.86      0.75         7\n",
      "           4       0.77      0.91      0.83        11\n",
      "           5       0.75      0.69      0.72        13\n",
      "\n",
      "    accuracy                           0.79        67\n",
      "   macro avg       0.81      0.78      0.77        67\n",
      "weighted avg       0.81      0.79      0.78        67\n",
      "\n"
     ]
    }
   ],
   "source": [
    "dt_clf = DecisionTreeClassifier(max_depth=5, criterion='entropy')\n",
    "dt_clf.fit(train_vecs, y_train)\n",
    "\n",
    "dt_predictions = dt_clf.predict(test_vecs)\n",
    "print(classification_report(y_test, dt_predictions))"
   ]
  },
  {
   "cell_type": "code",
   "execution_count": 143,
   "id": "ebfd9a34",
   "metadata": {},
   "outputs": [
    {
     "data": {
      "image/png": "[encoded data removed]",
      "text/plain": [
       "<Figure size 640x480 with 2 Axes>"
      ]
     },
     "metadata": {},
     "output_type": "display_data"
    }
   ],
   "source": [
    "cm_norm = confusion_matrix(y_test, dt_predictions)\n",
    "disp_norm = ConfusionMatrixDisplay(confusion_matrix=cm_norm)\n",
    "disp_norm.plot()\n",
    "plt.show()"
   ]
  },
  {
   "cell_type": "code",
   "execution_count": 144,
   "id": "348cbb67",
   "metadata": {},
   "outputs": [],
   "source": [
    "from sklearn.model_selection import cross_val_score"
   ]
  },
  {
   "cell_type": "code",
   "execution_count": 145,
   "id": "19c443a6",
   "metadata": {},
   "outputs": [
    {
     "name": "stdout",
     "output_type": "stream",
     "text": [
      "0.8316059602592111\n"
     ]
    }
   ],
   "source": [
    "print(cross_val_score(dt_clf, whole_dataset_vecs, whole_dataset_label, cv=5, scoring='f1_macro').mean())"
   ]
  },
  {
   "cell_type": "code",
   "execution_count": 146,
   "id": "99f23bbf",
   "metadata": {},
   "outputs": [
    {
     "name": "stdout",
     "output_type": "stream",
     "text": [
      "0.8781549060960826\n"
     ]
    }
   ],
   "source": [
    "print(cross_val_score(model, whole_dataset_vecs, whole_dataset_label, cv=5, scoring='f1_macro').mean())"
   ]
  },
  {
   "cell_type": "markdown",
   "id": "f826aa6c",
   "metadata": {},
   "source": [
    "# Интерпретация"
   ]
  },
  {
   "cell_type": "code",
   "execution_count": 148,
   "id": "a511abb6",
   "metadata": {},
   "outputs": [
    {
     "name": "stdout",
     "output_type": "stream",
     "text": [
      "Договоры для акселератора/Договоры аренды\n"
     ]
    },
    {
     "data": {
      "text/html": [
       "<div>\n",
       "<style scoped>\n",
       "    .dataframe tbody tr th:only-of-type {\n",
       "        vertical-align: middle;\n",
       "    }\n",
       "\n",
       "    .dataframe tbody tr th {\n",
       "        vertical-align: top;\n",
       "    }\n",
       "\n",
       "    .dataframe thead th {\n",
       "        text-align: right;\n",
       "    }\n",
       "</style>\n",
       "<table border=\"1\" class=\"dataframe\">\n",
       "  <thead>\n",
       "    <tr style=\"text-align: right;\">\n",
       "      <th></th>\n",
       "      <th>phrases</th>\n",
       "      <th>coef</th>\n",
       "    </tr>\n",
       "  </thead>\n",
       "  <tbody>\n",
       "    <tr>\n",
       "      <th>0</th>\n",
       "      <td>арендатор</td>\n",
       "      <td>2.070873</td>\n",
       "    </tr>\n",
       "    <tr>\n",
       "      <th>1</th>\n",
       "      <td>арендодатель</td>\n",
       "      <td>1.761203</td>\n",
       "    </tr>\n",
       "    <tr>\n",
       "      <th>2</th>\n",
       "      <td>аренда</td>\n",
       "      <td>0.966707</td>\n",
       "    </tr>\n",
       "    <tr>\n",
       "      <th>3</th>\n",
       "      <td>помещение</td>\n",
       "      <td>0.853408</td>\n",
       "    </tr>\n",
       "    <tr>\n",
       "      <th>4</th>\n",
       "      <td>наниматель</td>\n",
       "      <td>0.680105</td>\n",
       "    </tr>\n",
       "    <tr>\n",
       "      <th>5</th>\n",
       "      <td>наймодатель</td>\n",
       "      <td>0.538678</td>\n",
       "    </tr>\n",
       "    <tr>\n",
       "      <th>6</th>\n",
       "      <td>имущество</td>\n",
       "      <td>0.436756</td>\n",
       "    </tr>\n",
       "    <tr>\n",
       "      <th>7</th>\n",
       "      <td>плата</td>\n",
       "      <td>0.343806</td>\n",
       "    </tr>\n",
       "    <tr>\n",
       "      <th>8</th>\n",
       "      <td>предмет</td>\n",
       "      <td>0.341919</td>\n",
       "    </tr>\n",
       "    <tr>\n",
       "      <th>9</th>\n",
       "      <td>гараж</td>\n",
       "      <td>0.324985</td>\n",
       "    </tr>\n",
       "  </tbody>\n",
       "</table>\n",
       "</div>"
      ],
      "text/plain": [
       "        phrases      coef\n",
       "0     арендатор  2.070873\n",
       "1  арендодатель  1.761203\n",
       "2        аренда  0.966707\n",
       "3     помещение  0.853408\n",
       "4    наниматель  0.680105\n",
       "5   наймодатель  0.538678\n",
       "6     имущество  0.436756\n",
       "7         плата  0.343806\n",
       "8       предмет  0.341919\n",
       "9         гараж  0.324985"
      ]
     },
     "execution_count": 148,
     "metadata": {},
     "output_type": "execute_result"
    }
   ],
   "source": [
    "class_ = 0\n",
    "print(le.classes_[class_])\n",
    "\n",
    "class0 = pd.DataFrame()\n",
    "class0['phrases'] = tfidf.get_feature_names_out()\n",
    "class0['coef'] = model.coef_[class_]\n",
    "class0.sort_values(by='coef', ascending=False, inplace=True )\n",
    "class0.reset_index(inplace=True, drop=True)\n",
    "class0.head(10)"
   ]
  },
  {
   "cell_type": "code",
   "execution_count": 183,
   "id": "966d2ce8",
   "metadata": {},
   "outputs": [
    {
     "name": "stdout",
     "output_type": "stream",
     "text": [
      "-"
     ]
    }
   ],
   "source": [
    "with open('keyphrases2.txt', encoding='utf-8') as f:\n",
    "    keyphrases = f.readlines()\n",
    "\n",
    "processed_keyphrases = preprocess(' ддд '.join(keyphrases)).split(' ддд ')\n",
    "\n",
    "proc2orig = defaultdict(list)\n",
    "for idx, keyph in enumerate(processed_keyphrases):\n",
    "    proc2orig[keyph].append(keyphrases[idx].strip())\n",
    "\n",
    "def get_orig_from_processed(words, text):\n",
    "    orig_words = []\n",
    "    for word in words:\n",
    "        for orig_word in proc2orig[word]:\n",
    "            if orig_word in text:\n",
    "                orig_words.append(orig_word)\n",
    "                break\n",
    "    return orig_words\n",
    "\n",
    "def find_ngrams(input_list, n):\n",
    "    return zip(*[input_list[i:] for i in range(n)])\n",
    "\n",
    "def get_context_from_words(phrases, text, context_window=2):\n",
    "    result = []\n",
    "    tokens = text.split()\n",
    "    for phrase in phrases:\n",
    "        phrase_words = phrase.split()\n",
    "        for idx, ngram in enumerate(find_ngrams(tokens, len(phrase_words))):\n",
    "            if list(ngram) == phrase_words:\n",
    "                span_begin = max(0, idx - context_window)\n",
    "                span_end = min(len(tokens), idx + len(phrase_words) + context_window)\n",
    "                result.append(' '.join(tokens[span_begin:span_end]))\n",
    "    result = random.sample(result, k=min(10, len(result)))\n",
    "    return result\n",
    "\n",
    "def end2end(filepath):\n",
    "    orig_text = read(filepath)\n",
    "    text = preprocess(orig_text, verbose=False)\n",
    "    vec = tfidf.transform([text])\n",
    "    \n",
    "    result = {}\n",
    "    result['doc_id'] = Path(filepath).stem\n",
    "    result['num_class'] = model.predict(vec)[0]\n",
    "    result['text_class'] = le.classes_[result['num_class']]\n",
    "    result['confidence'] = model.predict_proba(vec)[0, result['num_class']]\n",
    "    \n",
    "\n",
    "    nums = vec[0].toarray() * model.coef_[result['num_class']]\n",
    "    top = np.argpartition(nums, -10)[:, -10:]\n",
    "\n",
    "    proc_words = tfidf.get_feature_names_out()[top].reshape(-1).tolist()\n",
    "    orig_words = get_orig_from_processed(proc_words, orig_text)\n",
    "    result['top_words'] = ', '.join(orig_words)\n",
    "    result['context_phrases'] = get_context_from_words(orig_words, orig_text)\n",
    "    return result\n"
   ]
  },
  {
   "cell_type": "code",
   "execution_count": 184,
   "id": "f357df38",
   "metadata": {},
   "outputs": [],
   "source": [
    "filepath = 'docs/0b4be82b86eff410d69d1d6b5553d220.docx'\n",
    "# filepath = 'docs/4a5707e447271a188a1211606b158a94.pdf'\n",
    "result = end2end(filepath)"
   ]
  },
  {
   "cell_type": "code",
   "execution_count": 154,
   "id": "e3bd2a92",
   "metadata": {},
   "outputs": [
    {
     "name": "stdout",
     "output_type": "stream",
     "text": [
      "Уверенность: 37.98%\n",
      "\n"
     ]
    }
   ],
   "source": [
    "print(f\"Уверенность: {(result['confidence'] * 100):0.2f}%\\n\")"
   ]
  },
  {
   "cell_type": "code",
   "execution_count": null,
   "id": "80ffe772",
   "metadata": {},
   "outputs": [],
   "source": []
  }
 ],
 "metadata": {
  "kernelspec": {
   "display_name": "Python 3.8.15 ('xmas-hack')",
   "language": "python",
   "name": "python3"
  },
  "language_info": {
   "codemirror_mode": {
    "name": "ipython",
    "version": 3
   },
   "file_extension": ".py",
   "mimetype": "text/x-python",
   "name": "python",
   "nbconvert_exporter": "python",
   "pygments_lexer": "ipython3",
   "version": "3.8.15"
  },
  "vscode": {
   "interpreter": {
    "hash": "441753348df7b615143ed060443753a422a5f9017a71bbf4dc23f250a3f4ff0c"
   }
  }
 },
 "nbformat": 4,
 "nbformat_minor": 5
}
